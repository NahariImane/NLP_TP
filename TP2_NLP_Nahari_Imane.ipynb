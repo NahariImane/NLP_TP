{
  "nbformat": 4,
  "nbformat_minor": 0,
  "metadata": {
    "colab": {
      "provenance": [],
      "authorship_tag": "ABX9TyP9aVrrNguzlQ585ie6gFmM",
      "include_colab_link": true
    },
    "kernelspec": {
      "name": "python3",
      "display_name": "Python 3"
    },
    "language_info": {
      "name": "python"
    }
  },
  "cells": [
    {
      "cell_type": "markdown",
      "metadata": {
        "id": "view-in-github",
        "colab_type": "text"
      },
      "source": [
        "<a href=\"https://colab.research.google.com/github/NahariImane/NLP_TP/blob/main/TP2_NLP_Nahari_Imane.ipynb\" target=\"_parent\"><img src=\"https://colab.research.google.com/assets/colab-badge.svg\" alt=\"Open In Colab\"/></a>"
      ]
    },
    {
      "cell_type": "code",
      "source": [
        "from gensim.models import Word2Vec\n",
        "import nltk\n",
        "nltk.download('punkt')\n",
        "from nltk.tokenize import word_tokenize"
      ],
      "metadata": {
        "colab": {
          "base_uri": "https://localhost:8080/"
        },
        "id": "r8AKrqGZlNkl",
        "outputId": "7226a6c1-819e-4488-b680-bdcd756d2b1c"
      },
      "execution_count": 23,
      "outputs": [
        {
          "output_type": "stream",
          "name": "stderr",
          "text": [
            "[nltk_data] Downloading package punkt to /root/nltk_data...\n",
            "[nltk_data]   Unzipping tokenizers/punkt.zip.\n"
          ]
        }
      ]
    },
    {
      "cell_type": "code",
      "source": [
        "# Texte à utiliser\n",
        "text = \"\"\"**Morocco and Marrakech: A Tapestry of Tradition and Modernity** Morocco, located at the crossroads of Europe and Africa, is a country drenched in history, mystery, and cultural richness. A testament to the ancient civilizations that once flourished here, this North African kingdom boasts a unique blend of Arab, Berber, and European influences. At the heart of Morocco's rich tapestry lies Marrakech, one of its four imperial cities and a vibrant epicenter of tradition and modernity. **Geographical Significance** Morocco is bordered by the Atlantic Ocean to the west, the Mediterranean Sea to the north, Algeria to the east and southeast, and the vast Sahara desert to the south. Its strategic location has historically made it a sought-after territory and a melting pot of cultures, religions, and trade routes. **Marrakech: The Red City** Marrakech, often referred to as \"The Red City\" due to its distinctive red-hued buildings, stands against the backdrop of the snow-capped Atlas Mountains. Established in the 11th century, it has remained a crucial political, economic, and cultural center of Morocco. **Journey through the Medina** Marrakech's old town, the Medina, is a UNESCO World Heritage site and a labyrinthine maze of narrow alleys, bustling souks, and historical landmarks. The Djemaa el-Fna Square lies at the heart of the Medina and comes alive every evening with storytellers, musicians, snake charmers, and food stalls offering tantalizing Moroccan delicacies. **Palaces and Gardens** The city is also home to grand palaces like the Bahia Palace, showcasing intricate Islamic architecture, and the Saadian Tombs, remnants of the Saadian dynasty. The Majorelle Garden, restored by the fashion designer Yves Saint Laurent, is a tranquil oasis of cacti, palm trees, and cobalt blue accents. **Modern Marrakech** While tradition and history permeate Marrakech, the city is not averse to the modern world. Gueliz, the new town, is brimming with contemporary art galleries, stylish cafes, and chic boutiques, offering a stark contrast to the ancient Medina. **Moroccan Cuisine** No journey through Morocco and Marrakech would be complete without indulging in the local cuisine. Tagines, couscous, and pastilla are just a few of the many dishes that combine a plethora of flavors and spices like saffron, cumin, and mint. Paired with Moroccan mint tea, the culinary experience is truly unparalleled. **In Conclusion** Morocco, with Marrakech at its heart, offers travelers an unparalleled journey through time. The convergence of history, culture, architecture, and gastronomy makes it an enthralling destination for those seeking both adventure and reflection. As the Moroccan proverb goes, \"He who does not travel does not know the value of men.\" In the case of Morocco and Marrakech, it's not just the value of men, but also the value of time, tradition, and tales that have spanned centuries.\"\"\"\n",
        "\n"
      ],
      "metadata": {
        "id": "I0hfEVC5ldtl"
      },
      "execution_count": 24,
      "outputs": []
    },
    {
      "cell_type": "code",
      "source": [
        "# Tokenization\n",
        "tokenized_text = word_tokenize(text.lower())"
      ],
      "metadata": {
        "id": "mOhn6KxBlgGS"
      },
      "execution_count": 26,
      "outputs": []
    },
    {
      "cell_type": "code",
      "source": [
        "# Entraînement du modèle Word2Vec\n",
        "model_w2v = Word2Vec([tokenized_text], vector_size=100, window=5, min_count=1, workers=4)"
      ],
      "metadata": {
        "id": "WLpPB699l-da"
      },
      "execution_count": 27,
      "outputs": []
    },
    {
      "cell_type": "code",
      "source": [
        "# 1. Extraire la représentation vectorielle d'un mot\n",
        "word_representation_w2v = model_w2v.wv['morocco']\n",
        "print(\"Représentation vectorielle du mot 'Morocco' avec Word2Vec:\", word_representation_w2v)"
      ],
      "metadata": {
        "colab": {
          "base_uri": "https://localhost:8080/"
        },
        "id": "4b8JGtxpmBo8",
        "outputId": "a0a32ba3-0fa6-4378-9ebf-2089beed607f"
      },
      "execution_count": 28,
      "outputs": [
        {
          "output_type": "stream",
          "name": "stdout",
          "text": [
            "Représentation vectorielle du mot 'Morocco' avec Word2Vec: [-5.3521870e-03 -6.3152849e-03 -7.5705540e-03  8.4748827e-03\n",
            " -1.8369526e-03 -7.4583017e-03 -3.5855665e-03  5.8824224e-03\n",
            " -3.3598649e-03 -4.2308206e-03  1.7384501e-03 -3.2191454e-03\n",
            " -1.7341455e-03  1.0104151e-03 -3.0318762e-03  8.3515439e-03\n",
            "  4.1013723e-03 -1.0412180e-02  6.0250540e-03 -7.6358314e-03\n",
            "  8.0689025e-04  4.4111619e-03 -4.7270409e-03 -2.1708664e-03\n",
            "  8.1192991e-03 -4.1506854e-03 -7.8375544e-03  8.9479191e-03\n",
            " -2.4769423e-03 -4.7074016e-03  8.8802362e-03  4.4401265e-03\n",
            "  4.5653675e-03  8.9925053e-03 -8.6751990e-03  5.7348716e-03\n",
            "  2.2164753e-03  4.0372470e-03  1.3651052e-03  3.8336930e-03\n",
            "  4.5678709e-03  5.7298583e-03 -3.3069365e-03 -4.5204447e-03\n",
            " -3.6652418e-06  2.5565994e-03 -3.4950713e-03  6.0166656e-03\n",
            "  4.3269014e-03  7.9088472e-03  2.9703521e-03  8.0122780e-03\n",
            " -1.4443510e-03  7.9522133e-03  3.4716511e-03 -7.9736989e-03\n",
            " -3.6889925e-03 -2.4512168e-03  4.5811408e-03 -7.8654184e-04\n",
            " -2.7930215e-03  7.7747847e-03  9.5897214e-03 -1.7822172e-03\n",
            " -5.5203899e-03 -4.5582191e-03 -4.6752603e-03 -9.2308028e-03\n",
            "  9.1934309e-04 -3.9130766e-03  2.2842167e-03  5.8740284e-03\n",
            " -3.7624293e-03 -9.5536849e-03  2.0999562e-03 -6.4444817e-03\n",
            "  2.5771037e-03 -3.7017269e-03  6.8751220e-03  7.3051365e-04\n",
            "  3.4001933e-03 -2.6446758e-03 -1.8758517e-03  7.9934550e-03\n",
            "  1.0473087e-03 -5.9560966e-03 -7.5549963e-03  1.7518547e-03\n",
            "  6.7417133e-03  5.2381367e-03 -8.6347358e-03  9.0196412e-03\n",
            "  4.0441300e-03  7.6156957e-03  1.0511445e-02 -7.0877932e-03\n",
            " -8.8966535e-03  5.6476062e-03  9.3641086e-03  3.3962000e-03]\n"
          ]
        }
      ]
    },
    {
      "cell_type": "code",
      "source": [
        "# 2. Calculer la similarité entre deux mots\n",
        "similarity_w2v = model_w2v.wv.similarity('morocco', 'kingdom')\n",
        "print(\"Similarité entre 'Morocco' et 'kingdom' avec Word2Vec:\", similarity_w2v)"
      ],
      "metadata": {
        "colab": {
          "base_uri": "https://localhost:8080/"
        },
        "id": "GadC3yLimF3c",
        "outputId": "e5765c40-7c94-4270-e340-b98bdd121dcf"
      },
      "execution_count": 29,
      "outputs": [
        {
          "output_type": "stream",
          "name": "stdout",
          "text": [
            "Similarité entre 'Morocco' et 'kingdom' avec Word2Vec: 0.26432574\n"
          ]
        }
      ]
    },
    {
      "cell_type": "code",
      "source": [
        "# 3. Extraire les mots contextuels pour un mot central donné\n",
        "central_word_w2v = 'morocco'\n",
        "contextual_words_w2v = model_w2v.wv.most_similar(positive=[central_word_w2v], topn=5)\n",
        "print(f\"Mots contextuels pour '{central_word_w2v}' avec Word2Vec:\", contextual_words_w2v)"
      ],
      "metadata": {
        "colab": {
          "base_uri": "https://localhost:8080/"
        },
        "id": "uHI46Ha4mMbV",
        "outputId": "8b563a3a-deb2-4b2e-8c48-5289da0acccd"
      },
      "execution_count": 30,
      "outputs": [
        {
          "output_type": "stream",
          "name": "stdout",
          "text": [
            "Mots contextuels pour 'morocco' avec Word2Vec: [('proverb', 0.31528180837631226), ('kingdom', 0.26432570815086365), ('unparalleled', 0.25275084376335144), (',', 0.2334689050912857), ('would', 0.23267045617103577)]\n"
          ]
        }
      ]
    },
    {
      "cell_type": "markdown",
      "source": [
        "# **Utilisons maintenant  One hot Encoding : **"
      ],
      "metadata": {
        "id": "UqEO6_GNoHfR"
      }
    },
    {
      "cell_type": "code",
      "source": [
        "from sklearn.preprocessing import OneHotEncoder\n",
        "from sklearn.feature_extraction.text import CountVectorizer\n",
        "\n"
      ],
      "metadata": {
        "id": "zUdlPAVHoQ-X"
      },
      "execution_count": 32,
      "outputs": []
    },
    {
      "cell_type": "code",
      "source": [
        "# Texte à utiliser\n",
        "text = \"\"\"**Morocco and Marrakech: A Tapestry of Tradition and Modernity** Morocco, located at the crossroads of Europe and Africa, is a country drenched in history, mystery, and cultural richness. A testament to the ancient civilizations that once flourished here, this North African kingdom boasts a unique blend of Arab, Berber, and European influences. At the heart of Morocco's rich tapestry lies Marrakech, one of its four imperial cities and a vibrant epicenter of tradition and modernity. **Geographical Significance** Morocco is bordered by the Atlantic Ocean to the west, the Mediterranean Sea to the north, Algeria to the east and southeast, and the vast Sahara desert to the south. Its strategic location has historically made it a sought-after territory and a melting pot of cultures, religions, and trade routes. **Marrakech: The Red City** Marrakech, often referred to as \"The Red City\" due to its distinctive red-hued buildings, stands against the backdrop of the snow-capped Atlas Mountains. Established in the 11th century, it has remained a crucial political, economic, and cultural center of Morocco. **Journey through the Medina** Marrakech's old town, the Medina, is a UNESCO World Heritage site and a labyrinthine maze of narrow alleys, bustling souks, and historical landmarks. The Djemaa el-Fna Square lies at the heart of the Medina and comes alive every evening with storytellers, musicians, snake charmers, and food stalls offering tantalizing Moroccan delicacies. **Palaces and Gardens** The city is also home to grand palaces like the Bahia Palace, showcasing intricate Islamic architecture, and the Saadian Tombs, remnants of the Saadian dynasty. The Majorelle Garden, restored by the fashion designer Yves Saint Laurent, is a tranquil oasis of cacti, palm trees, and cobalt blue accents. **Modern Marrakech** While tradition and history permeate Marrakech, the city is not averse to the modern world. Gueliz, the new town, is brimming with contemporary art galleries, stylish cafes, and chic boutiques, offering a stark contrast to the ancient Medina. **Moroccan Cuisine** No journey through Morocco and Marrakech would be complete without indulging in the local cuisine. Tagines, couscous, and pastilla are just a few of the many dishes that combine a plethora of flavors and spices like saffron, cumin, and mint. Paired with Moroccan mint tea, the culinary experience is truly unparalleled. **In Conclusion** Morocco, with Marrakech at its heart, offers travelers an unparalleled journey through time. The convergence of history, culture, architecture, and gastronomy makes it an enthralling destination for those seeking both adventure and reflection. As the Moroccan proverb goes, \"He who does not travel does not know the value of men.\" In the case of Morocco and Marrakech, it's not just the value of men, but also the value of time, tradition, and tales that have spanned centuries.\"\"\"\n",
        "\n",
        "# Tokenization\n",
        "tokenized_text = word_tokenize(text.lower())\n",
        "\n",
        "\n"
      ],
      "metadata": {
        "id": "Af8npVQUodXl"
      },
      "execution_count": 33,
      "outputs": []
    },
    {
      "cell_type": "code",
      "source": [
        "# One-Hot Encoding avec scikit-learn\n",
        "vectorizer = CountVectorizer(binary=True)\n",
        "one_hot_encoding = vectorizer.fit_transform(tokenized_text).toarray()\n",
        "\n"
      ],
      "metadata": {
        "id": "uMPbu3BnokIO"
      },
      "execution_count": 34,
      "outputs": []
    },
    {
      "cell_type": "code",
      "source": [
        "# Création d'un dictionnaire de mots et de leurs indices dans le vecteur One-Hot\n",
        "word_indices = {word: index for word, index in vectorizer.vocabulary_.items()}\n",
        "\n"
      ],
      "metadata": {
        "id": "ItxTUZ0EopUZ"
      },
      "execution_count": 35,
      "outputs": []
    },
    {
      "cell_type": "code",
      "source": [
        "# 1. Extraire la représentation vectorielle d'un mot\n",
        "central_word_one_hot = 'morocco'\n",
        "word_representation_one_hot = one_hot_encoding[:, word_indices[central_word_one_hot]]\n",
        "print(f\"Représentation vectorielle du mot '{central_word_one_hot}' avec One-Hot Encoding:\", word_representation_one_hot)\n"
      ],
      "metadata": {
        "colab": {
          "base_uri": "https://localhost:8080/"
        },
        "id": "IsYGREO2otXl",
        "outputId": "1ee8f0d3-8ab7-4289-b2c8-eb1d8c5f9a90"
      },
      "execution_count": 36,
      "outputs": [
        {
          "output_type": "stream",
          "name": "stdout",
          "text": [
            "Représentation vectorielle du mot 'morocco' avec One-Hot Encoding: [0 0 1 0 0 0 0 0 0 0 0 0 0 0 1 0 0 0 0 0 0 0 0 0 0 0 0 0 0 0 0 0 0 0 0 0 0\n",
            " 0 0 0 0 0 0 0 0 0 0 0 0 0 0 0 0 0 0 0 0 0 0 0 0 0 0 0 0 0 0 0 0 0 1 0 0 0\n",
            " 0 0 0 0 0 0 0 0 0 0 0 0 0 0 0 0 0 0 0 0 0 0 0 0 1 0 0 0 0 0 0 0 0 0 0 0 0\n",
            " 0 0 0 0 0 0 0 0 0 0 0 0 0 0 0 0 0 0 0 0 0 0 0 0 0 0 0 0 0 0 0 0 0 0 0 0 0\n",
            " 0 0 0 0 0 0 0 0 0 0 0 0 0 0 0 0 0 0 0 0 0 0 0 0 0 0 0 0 0 0 0 0 0 0 0 0 0\n",
            " 0 0 0 0 0 0 0 0 0 0 0 0 0 0 0 0 0 0 0 0 0 0 0 0 0 0 1 0 0 0 0 0 0 0 0 0 0\n",
            " 0 0 0 0 0 0 0 0 0 0 0 0 0 0 0 0 0 0 0 0 0 0 0 0 0 0 0 0 0 0 0 0 0 0 0 0 0\n",
            " 0 0 0 0 0 0 0 0 0 0 0 0 0 0 0 0 0 0 0 0 0 0 0 0 0 0 0 0 0 0 0 0 0 0 0 0 0\n",
            " 0 0 0 0 0 0 0 0 0 0 0 0 0 0 0 0 0 0 0 0 0 0 0 0 0 0 0 0 0 0 0 0 0 0 0 0 0\n",
            " 0 0 0 0 0 0 0 0 0 0 0 0 0 0 0 0 0 0 0 0 0 0 0 0 0 0 0 0 0 0 0 0 0 0 0 0 0\n",
            " 0 0 0 0 0 0 0 0 0 0 0 0 0 0 0 0 0 0 0 0 0 0 0 0 0 0 0 0 0 0 0 0 0 0 0 0 0\n",
            " 1 0 0 0 0 0 0 0 0 0 0 0 0 0 0 0 0 0 0 0 0 0 0 0 0 0 0 0 0 0 0 0 0 0 0 0 0\n",
            " 0 0 0 0 0 0 0 0 0 0 0 0 0 0 0 0 0 0 0 0 0 0 0 0 0 1 0 0 0 0 0 0 0 0 0 0 0\n",
            " 0 0 0 0 0 0 0 0 0 0 0 0 0 0 0 0 0 0 0 0 0 0 0 0 0 0 0 0 0 0 0 0 0 0 0 0 0\n",
            " 0 0 0 0 0 0 0 0 0 0 0 0 0 0 0 0 1 0 0 0 0 0 0 0 0 0 0 0 0 0 0 0 0 0 0 0 0\n",
            " 0 0 0 0 0 0 0 0]\n"
          ]
        }
      ]
    },
    {
      "cell_type": "code",
      "source": [
        "# 2. Calculer la similarité entre deux mots\n",
        "word1_one_hot = 'morocco'\n",
        "word2_one_hot = 'kingdom'\n",
        "similarity_one_hot = sum(one_hot_encoding[:, word_indices[word1_one_hot]] * one_hot_encoding[:, word_indices[word2_one_hot]])\n",
        "print(f\"Similarité entre '{word1_one_hot}' et '{word2_one_hot}' avec One-Hot Encoding:\", similarity_one_hot)\n",
        "\n"
      ],
      "metadata": {
        "colab": {
          "base_uri": "https://localhost:8080/"
        },
        "id": "lWqg4xC3otQ9",
        "outputId": "0e4a9151-92c7-4695-cbec-dd3735db1053"
      },
      "execution_count": 37,
      "outputs": [
        {
          "output_type": "stream",
          "name": "stdout",
          "text": [
            "Similarité entre 'morocco' et 'kingdom' avec One-Hot Encoding: 0\n"
          ]
        }
      ]
    },
    {
      "cell_type": "code",
      "source": [
        "# 3. Extraire les mots contextuels pour un mot central donné\n",
        "central_word_one_hot = 'morocco'\n",
        "contextual_words_one_hot = [word for word, index in word_indices.items() if word != central_word_one_hot and similarity_one_hot > 0]\n",
        "print(f\"Mots contextuels pour '{central_word_one_hot}' avec One-Hot Encoding:\", contextual_words_one_hot)"
      ],
      "metadata": {
        "colab": {
          "base_uri": "https://localhost:8080/"
        },
        "id": "RZ5R3JwUoyCO",
        "outputId": "456cd455-d1d9-4fd5-8dde-904ea230c857"
      },
      "execution_count": 38,
      "outputs": [
        {
          "output_type": "stream",
          "name": "stdout",
          "text": [
            "Mots contextuels pour 'morocco' avec One-Hot Encoding: []\n"
          ]
        }
      ]
    }
  ]
}